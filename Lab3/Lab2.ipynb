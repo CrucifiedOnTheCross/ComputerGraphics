{
 "cells": [
  {
   "cell_type": "code",
   "execution_count": 1,
   "id": "initial_id",
   "metadata": {
    "ExecuteTime": {
     "end_time": "2024-03-19T09:53:43.787205Z",
     "start_time": "2024-03-19T09:53:43.783422Z"
    }
   },
   "outputs": [],
   "source": [
    "import numpy as np\n",
    "from PIL import Image, ImageOps\n",
    "from objectreader import ObjModel\n",
    "import graphicsfunction as gf\n",
    "import objectreader as nf\n",
    "\n",
    "folder = f'img2/'\n",
    "WIDTH = 1920\n",
    "HEIGHT = 1080\n",
    "DEFAULT_COLOR = (255, 255, 255)\n",
    "BACKROUND_COLOR = (30, 30, 40)"
   ]
  },
  {
   "cell_type": "code",
   "execution_count": 2,
   "id": "ff76372d63e3ee3e",
   "metadata": {
    "ExecuteTime": {
     "end_time": "2024-03-19T09:53:46.801516Z",
     "start_time": "2024-03-19T09:53:43.813364Z"
    },
    "collapsed": false,
    "jupyter": {
     "outputs_hidden": false
    }
   },
   "outputs": [
    {
     "ename": "ZeroDivisionError",
     "evalue": "float division by zero",
     "output_type": "error",
     "traceback": [
      "\u001b[1;31m---------------------------------------------------------------------------\u001b[0m",
      "\u001b[1;31mZeroDivisionError\u001b[0m                         Traceback (most recent call last)",
      "Cell \u001b[1;32mIn[2], line 21\u001b[0m\n\u001b[0;32m     16\u001b[0m     \u001b[38;5;28;01mif\u001b[39;00m alpha \u001b[38;5;241m<\u001b[39m \u001b[38;5;241m0\u001b[39m:\n\u001b[0;32m     17\u001b[0m         color \u001b[38;5;241m=\u001b[39m (\n\u001b[0;32m     18\u001b[0m             DEFAULT_COLOR[\u001b[38;5;241m0\u001b[39m] \u001b[38;5;241m*\u001b[39m (\u001b[38;5;241m1\u001b[39m \u001b[38;5;241m-\u001b[39m alpha),\n\u001b[0;32m     19\u001b[0m             DEFAULT_COLOR[\u001b[38;5;241m1\u001b[39m] \u001b[38;5;241m*\u001b[39m (\u001b[38;5;241m1\u001b[39m \u001b[38;5;241m-\u001b[39m alpha),\n\u001b[0;32m     20\u001b[0m             DEFAULT_COLOR[\u001b[38;5;241m2\u001b[39m] \u001b[38;5;241m*\u001b[39m (\u001b[38;5;241m1\u001b[39m \u001b[38;5;241m-\u001b[39m alpha))\n\u001b[1;32m---> 21\u001b[0m         \u001b[43mgf\u001b[49m\u001b[38;5;241;43m.\u001b[39;49m\u001b[43mdrawTriangle\u001b[49m\u001b[43m(\u001b[49m\u001b[43mar\u001b[49m\u001b[43m,\u001b[49m\u001b[43m \u001b[49m\u001b[43mvertexs\u001b[49m\u001b[43m,\u001b[49m\u001b[43m \u001b[49m\u001b[38;5;241;43m0\u001b[39;49m\u001b[43m,\u001b[49m\u001b[43m \u001b[49m\u001b[38;5;241;43m0\u001b[39;49m\u001b[43m,\u001b[49m\u001b[43m \u001b[49m\u001b[43mcolor\u001b[49m\u001b[43m,\u001b[49m\u001b[43m \u001b[49m\u001b[43mzBuffer\u001b[49m\u001b[43m)\u001b[49m\n\u001b[0;32m     22\u001b[0m img \u001b[38;5;241m=\u001b[39m ImageOps\u001b[38;5;241m.\u001b[39mflip(Image\u001b[38;5;241m.\u001b[39mfromarray(np\u001b[38;5;241m.\u001b[39mtranspose(ar, (\u001b[38;5;241m1\u001b[39m, \u001b[38;5;241m0\u001b[39m, \u001b[38;5;241m2\u001b[39m)), mode\u001b[38;5;241m=\u001b[39m\u001b[38;5;124m\"\u001b[39m\u001b[38;5;124mRGB\u001b[39m\u001b[38;5;124m\"\u001b[39m))\n\u001b[0;32m     23\u001b[0m img\u001b[38;5;241m.\u001b[39msave(folder \u001b[38;5;241m+\u001b[39m \u001b[38;5;124mf\u001b[39m\u001b[38;5;124m\"\u001b[39m\u001b[38;5;124ma_\u001b[39m\u001b[38;5;132;01m{\u001b[39;00mframe\u001b[38;5;132;01m}\u001b[39;00m\u001b[38;5;124m.jpg\u001b[39m\u001b[38;5;124m\"\u001b[39m)\n",
      "File \u001b[1;32m~\\Desktop\\Обучение\\Компьютерная графика\\graphicsfunction.py:26\u001b[0m, in \u001b[0;36mdrawTriangle\u001b[1;34m(img, pol, ax, ay, color, zBuffer)\u001b[0m\n\u001b[0;32m     24\u001b[0m \u001b[38;5;28;01mfor\u001b[39;00m x \u001b[38;5;129;01min\u001b[39;00m \u001b[38;5;28mrange\u001b[39m(\u001b[38;5;28mint\u001b[39m(xmin), \u001b[38;5;28mint\u001b[39m(xmax) \u001b[38;5;241m+\u001b[39m \u001b[38;5;241m1\u001b[39m):\n\u001b[0;32m     25\u001b[0m     \u001b[38;5;28;01mfor\u001b[39;00m y \u001b[38;5;129;01min\u001b[39;00m \u001b[38;5;28mrange\u001b[39m(\u001b[38;5;28mint\u001b[39m(ymin), \u001b[38;5;28mint\u001b[39m(ymax) \u001b[38;5;241m+\u001b[39m \u001b[38;5;241m1\u001b[39m):\n\u001b[1;32m---> 26\u001b[0m         barCor \u001b[38;5;241m=\u001b[39m \u001b[43mgetBarCor\u001b[49m\u001b[43m(\u001b[49m\u001b[43mx\u001b[49m\u001b[43m,\u001b[49m\u001b[43m \u001b[49m\u001b[43my\u001b[49m\u001b[43m,\u001b[49m\u001b[43m \u001b[49m\u001b[43mmovPol\u001b[49m\u001b[43m[\u001b[49m\u001b[38;5;241;43m0\u001b[39;49m\u001b[43m]\u001b[49m\u001b[43m[\u001b[49m\u001b[38;5;241;43m0\u001b[39;49m\u001b[43m]\u001b[49m\u001b[43m,\u001b[49m\u001b[43m \u001b[49m\u001b[43mmovPol\u001b[49m\u001b[43m[\u001b[49m\u001b[38;5;241;43m0\u001b[39;49m\u001b[43m]\u001b[49m\u001b[43m[\u001b[49m\u001b[38;5;241;43m1\u001b[39;49m\u001b[43m]\u001b[49m\u001b[43m,\u001b[49m\u001b[43m \u001b[49m\u001b[43mmovPol\u001b[49m\u001b[43m[\u001b[49m\u001b[38;5;241;43m1\u001b[39;49m\u001b[43m]\u001b[49m\u001b[43m[\u001b[49m\u001b[38;5;241;43m0\u001b[39;49m\u001b[43m]\u001b[49m\u001b[43m,\u001b[49m\u001b[43m \u001b[49m\u001b[43mmovPol\u001b[49m\u001b[43m[\u001b[49m\u001b[38;5;241;43m1\u001b[39;49m\u001b[43m]\u001b[49m\u001b[43m[\u001b[49m\u001b[38;5;241;43m1\u001b[39;49m\u001b[43m]\u001b[49m\u001b[43m,\u001b[49m\u001b[43m \u001b[49m\u001b[43mmovPol\u001b[49m\u001b[43m[\u001b[49m\u001b[38;5;241;43m2\u001b[39;49m\u001b[43m]\u001b[49m\u001b[43m[\u001b[49m\u001b[38;5;241;43m0\u001b[39;49m\u001b[43m]\u001b[49m\u001b[43m,\u001b[49m\u001b[43m \u001b[49m\u001b[43mmovPol\u001b[49m\u001b[43m[\u001b[49m\u001b[38;5;241;43m2\u001b[39;49m\u001b[43m]\u001b[49m\u001b[43m[\u001b[49m\u001b[38;5;241;43m1\u001b[39;49m\u001b[43m]\u001b[49m\u001b[43m)\u001b[49m\n\u001b[0;32m     27\u001b[0m         zBuf \u001b[38;5;241m=\u001b[39m barCor[\u001b[38;5;241m0\u001b[39m] \u001b[38;5;241m*\u001b[39m pol[\u001b[38;5;241m0\u001b[39m][\u001b[38;5;241m2\u001b[39m] \u001b[38;5;241m+\u001b[39m barCor[\u001b[38;5;241m1\u001b[39m] \u001b[38;5;241m*\u001b[39m pol[\u001b[38;5;241m1\u001b[39m][\u001b[38;5;241m2\u001b[39m] \u001b[38;5;241m+\u001b[39m barCor[\u001b[38;5;241m2\u001b[39m] \u001b[38;5;241m*\u001b[39m pol[\u001b[38;5;241m2\u001b[39m][\u001b[38;5;241m2\u001b[39m]\n\u001b[0;32m     28\u001b[0m         \u001b[38;5;28;01mif\u001b[39;00m \u001b[38;5;28mall\u001b[39m(i \u001b[38;5;241m>\u001b[39m \u001b[38;5;241m0\u001b[39m \u001b[38;5;28;01mfor\u001b[39;00m i \u001b[38;5;129;01min\u001b[39;00m barCor) \u001b[38;5;129;01mand\u001b[39;00m zBuffer[x][y] \u001b[38;5;241m>\u001b[39m zBuf:\n",
      "File \u001b[1;32m~\\Desktop\\Обучение\\Компьютерная графика\\graphicsfunction.py:6\u001b[0m, in \u001b[0;36mgetBarCor\u001b[1;34m(x, y, x0, y0, x1, y1, x2, y2)\u001b[0m\n\u001b[0;32m      4\u001b[0m \u001b[38;5;28;01mdef\u001b[39;00m \u001b[38;5;21mgetBarCor\u001b[39m(x, y, x0, y0, x1, y1, x2, y2):\n\u001b[0;32m      5\u001b[0m     det \u001b[38;5;241m=\u001b[39m (x1 \u001b[38;5;241m-\u001b[39m x2) \u001b[38;5;241m*\u001b[39m (y0 \u001b[38;5;241m-\u001b[39m y2) \u001b[38;5;241m-\u001b[39m (y1 \u001b[38;5;241m-\u001b[39m y2) \u001b[38;5;241m*\u001b[39m (x0 \u001b[38;5;241m-\u001b[39m x2)\n\u001b[1;32m----> 6\u001b[0m     lamda0 \u001b[38;5;241m=\u001b[39m \u001b[43m(\u001b[49m\u001b[43m(\u001b[49m\u001b[43mx1\u001b[49m\u001b[43m \u001b[49m\u001b[38;5;241;43m-\u001b[39;49m\u001b[43m \u001b[49m\u001b[43mx2\u001b[49m\u001b[43m)\u001b[49m\u001b[43m \u001b[49m\u001b[38;5;241;43m*\u001b[39;49m\u001b[43m \u001b[49m\u001b[43m(\u001b[49m\u001b[43my\u001b[49m\u001b[43m \u001b[49m\u001b[38;5;241;43m-\u001b[39;49m\u001b[43m \u001b[49m\u001b[43my2\u001b[49m\u001b[43m)\u001b[49m\u001b[43m \u001b[49m\u001b[38;5;241;43m-\u001b[39;49m\u001b[43m \u001b[49m\u001b[43m(\u001b[49m\u001b[43my1\u001b[49m\u001b[43m \u001b[49m\u001b[38;5;241;43m-\u001b[39;49m\u001b[43m \u001b[49m\u001b[43my2\u001b[49m\u001b[43m)\u001b[49m\u001b[43m \u001b[49m\u001b[38;5;241;43m*\u001b[39;49m\u001b[43m \u001b[49m\u001b[43m(\u001b[49m\u001b[43mx\u001b[49m\u001b[43m \u001b[49m\u001b[38;5;241;43m-\u001b[39;49m\u001b[43m \u001b[49m\u001b[43mx2\u001b[49m\u001b[43m)\u001b[49m\u001b[43m)\u001b[49m\u001b[43m \u001b[49m\u001b[38;5;241;43m/\u001b[39;49m\u001b[43m \u001b[49m\u001b[43mdet\u001b[49m\n\u001b[0;32m      7\u001b[0m     lambda1 \u001b[38;5;241m=\u001b[39m ((x2 \u001b[38;5;241m-\u001b[39m x0) \u001b[38;5;241m*\u001b[39m (y \u001b[38;5;241m-\u001b[39m y0) \u001b[38;5;241m-\u001b[39m (y2 \u001b[38;5;241m-\u001b[39m y0) \u001b[38;5;241m*\u001b[39m (x \u001b[38;5;241m-\u001b[39m x0)) \u001b[38;5;241m/\u001b[39m det\n\u001b[0;32m      8\u001b[0m     lambda2 \u001b[38;5;241m=\u001b[39m \u001b[38;5;241m1.0\u001b[39m \u001b[38;5;241m-\u001b[39m lamda0 \u001b[38;5;241m-\u001b[39m lambda1\n",
      "\u001b[1;31mZeroDivisionError\u001b[0m: float division by zero"
     ]
    }
   ],
   "source": [
    "obj = ObjModel()\n",
    "obj.readModel('model/model_2.obj')\n",
    "obj.scaleObjToImgOld(WIDTH, HEIGHT)\n",
    "\n",
    "for frame in range(0, 1):\n",
    "    ar = np.full((WIDTH, HEIGHT, 3), BACKROUND_COLOR, dtype=np.uint8)\n",
    "    zBuffer = np.full((WIDTH, HEIGHT), fill_value=np.inf, dtype=float)\n",
    "    \n",
    "    for pol in obj.polygons:\n",
    "        vertexs = obj.getVertexFromPolygon(pol)\n",
    "        n_old = gf.getNormal(vertexs)\n",
    "\n",
    "        n = gf.getNormal(vertexs)\n",
    "        alpha = np.dot(n_old, [0, 0, 1]) / (np.linalg.norm(n_old))\n",
    "        alpha_new = np.dot(n, [0, 0, 1]) / (np.linalg.norm(n))\n",
    "        if alpha < 0:\n",
    "            color = (\n",
    "                DEFAULT_COLOR[0] * (1 - alpha),\n",
    "                DEFAULT_COLOR[1] * (1 - alpha),\n",
    "                DEFAULT_COLOR[2] * (1 - alpha))\n",
    "            gf.drawTriangle(ar, vertexs, 0, 0, color, zBuffer)\n",
    "    img = ImageOps.flip(Image.fromarray(np.transpose(ar, (1, 0, 2)), mode=\"RGB\"))\n",
    "    img.save(folder + f\"a_{frame}.jpg\")\n",
    "img"
   ]
  },
  {
   "cell_type": "code",
   "execution_count": null,
   "id": "5959f338be862506",
   "metadata": {
    "ExecuteTime": {
     "end_time": "2024-03-19T09:53:46.834662Z",
     "start_time": "2024-03-19T09:53:46.803477Z"
    },
    "collapsed": false,
    "jupyter": {
     "outputs_hidden": false
    }
   },
   "outputs": [],
   "source": [
    "obj = ObjModel()\n",
    "obj.readModel('model/model_2.obj')\n",
    "scale, move = obj.scaleObjToImg(WIDTH, HEIGHT, scaleFactor=0.8)\n",
    "\n",
    "for frame in range(0, 1):\n",
    "    ar = np.full((WIDTH, HEIGHT, 3), BACKROUND_COLOR, dtype=np.uint8)\n",
    "    zBuffer = np.full((WIDTH, HEIGHT), fill_value=1000000, dtype=int)\n",
    "\n",
    "    obj.rotateObj(0, 360, 0)\n",
    "\n",
    "    for pol in obj.polygons:\n",
    "        vertexs = nf.movePol(obj.getVertexFromPolygon(pol), scale, move)\n",
    "        n = gf.getNormal(vertexs)\n",
    "        alpha = np.dot(n, [0, 0, 1]) / (np.linalg.norm(n))\n",
    "        if alpha < 0:\n",
    "            color = (\n",
    "                DEFAULT_COLOR[0] * (1 - 0.5 * alpha), DEFAULT_COLOR[1] * (1 - alpha),\n",
    "                DEFAULT_COLOR[2] * (1 - 0.1 * alpha))\n",
    "            gf.drawTriangle(ar, vertexs, color, zBuffer)"
   ]
  },
  {
   "cell_type": "code",
   "execution_count": null,
   "id": "bc05eba622fdc88a",
   "metadata": {
    "collapsed": false,
    "jupyter": {
     "outputs_hidden": false
    }
   },
   "outputs": [],
   "source": []
  },
  {
   "cell_type": "code",
   "execution_count": null,
   "id": "800614ab-8559-4708-b235-6ab242642397",
   "metadata": {},
   "outputs": [],
   "source": []
  }
 ],
 "metadata": {
  "kernelspec": {
   "display_name": "Python 3 (ipykernel)",
   "language": "python",
   "name": "python3"
  },
  "language_info": {
   "codemirror_mode": {
    "name": "ipython",
    "version": 3
   },
   "file_extension": ".py",
   "mimetype": "text/x-python",
   "name": "python",
   "nbconvert_exporter": "python",
   "pygments_lexer": "ipython3",
   "version": "3.8.10"
  }
 },
 "nbformat": 4,
 "nbformat_minor": 5
}
