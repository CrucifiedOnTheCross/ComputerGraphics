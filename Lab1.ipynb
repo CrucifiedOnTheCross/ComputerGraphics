{
 "cells": [
  {
   "cell_type": "code",
   "execution_count": 23,
   "id": "00178884-851b-45b4-bb28-493704765eec",
   "metadata": {
    "ExecuteTime": {
     "end_time": "2024-02-20T07:59:08.952079500Z",
     "start_time": "2024-02-20T07:59:08.945050700Z"
    }
   },
   "outputs": [],
   "source": [
    "import numpy as np\n",
    "from PIL import Image\n",
    "from math import sin, cos, pi"
   ]
  },
  {
   "cell_type": "code",
   "execution_count": 24,
   "id": "ba401d2a-c056-47c0-82dc-a42c7cad8f53",
   "metadata": {
    "ExecuteTime": {
     "end_time": "2024-02-20T07:59:08.962985500Z",
     "start_time": "2024-02-20T07:59:08.953067Z"
    }
   },
   "outputs": [],
   "source": [
    "ar = np.full((200, 200), fill_value=0, dtype=np.uint8)"
   ]
  },
  {
   "cell_type": "code",
   "execution_count": 25,
   "id": "2eef2ea1-02d4-4c28-a5e6-335f6bd2f6fa",
   "metadata": {
    "ExecuteTime": {
     "end_time": "2024-02-20T07:59:08.983311900Z",
     "start_time": "2024-02-20T07:59:08.959783500Z"
    }
   },
   "outputs": [],
   "source": [
    "def dotted_line(image, x0, y0, x1, y1, count, color):\n",
    "    step = 1.0 / count\n",
    "    for t in np.arange(0, 1, step):\n",
    "        x = round((1.0 - t) * x0 + t * x1)\n",
    "        y = round((1.0 - t) * y0 + t * y1)\n",
    "        image[y, x] = color"
   ]
  },
  {
   "cell_type": "code",
   "execution_count": 27,
   "id": "e1279489-0e0d-402d-9f64-c711b1d93cc5",
   "metadata": {
    "ExecuteTime": {
     "end_time": "2024-02-20T07:59:17.540140200Z",
     "start_time": "2024-02-20T07:59:17.528692200Z"
    }
   },
   "outputs": [
    {
     "data": {
      "text/plain": "<PIL.Image.Image image mode=L size=200x200>",
      "image/png": "[encoded data removed]",
      "image/jpeg": "[encoded data removed]"
     },
     "execution_count": 27,
     "metadata": {},
     "output_type": "execute_result"
    }
   ],
   "source": [
    "for i in range(13):\n",
    "    alpha = (2 * pi * i) / 13\n",
    "    dotted_line(ar, 100, 100, 100 + 95 * cos(alpha), 100 + 95 * sin(alpha), 1000, (255))\n",
    "\n",
    "img = Image.fromarray(ar, mode=\"L\")\n",
    "img.save(\"a.jpg\")\n",
    "img"
   ]
  },
  {
   "cell_type": "code",
   "execution_count": null,
   "id": "6e348d53-2bd2-49a7-88fc-cee2ab3c1cb3",
   "metadata": {
    "ExecuteTime": {
     "start_time": "2024-02-20T07:59:08.982314100Z"
    }
   },
   "outputs": [],
   "source": []
  }
 ],
 "metadata": {
  "kernelspec": {
   "display_name": "Python 3 (ipykernel)",
   "language": "python",
   "name": "python3"
  },
  "language_info": {
   "codemirror_mode": {
    "name": "ipython",
    "version": 3
   },
   "file_extension": ".py",
   "mimetype": "text/x-python",
   "name": "python",
   "nbconvert_exporter": "python",
   "pygments_lexer": "ipython3",
   "version": "3.8.10"
  }
 },
 "nbformat": 4,
 "nbformat_minor": 5
}
